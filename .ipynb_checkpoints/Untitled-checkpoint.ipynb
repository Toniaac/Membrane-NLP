{
 "cells": [
  {
   "cell_type": "code",
   "execution_count": 2,
   "id": "de3d8e44",
   "metadata": {},
   "outputs": [],
   "source": [
    "import cohere"
   ]
  },
  {
   "cell_type": "code",
   "execution_count": 4,
   "id": "bceff271",
   "metadata": {},
   "outputs": [
    {
     "ename": "CohereError",
     "evalue": "invalid api key",
     "output_type": "error",
     "traceback": [
      "\u001b[1;31m---------------------------------------------------------------------------\u001b[0m",
      "\u001b[1;31mCohereError\u001b[0m                               Traceback (most recent call last)",
      "File \u001b[1;32mD:\\Anaconda\\envs\\py38\\lib\\site-packages\\cohere\\client.py:54\u001b[0m, in \u001b[0;36mClient.__init__\u001b[1;34m(self, api_key, version, num_workers, request_dict, check_api_key)\u001b[0m\n\u001b[0;32m     53\u001b[0m     \u001b[38;5;28;01mif\u001b[39;00m \u001b[38;5;129;01mnot\u001b[39;00m res[\u001b[38;5;124m'\u001b[39m\u001b[38;5;124mvalid\u001b[39m\u001b[38;5;124m'\u001b[39m]:\n\u001b[1;32m---> 54\u001b[0m         \u001b[38;5;28;01mraise\u001b[39;00m CohereError(\u001b[38;5;124m'\u001b[39m\u001b[38;5;124minvalid api key\u001b[39m\u001b[38;5;124m'\u001b[39m)\n\u001b[0;32m     55\u001b[0m \u001b[38;5;28;01mexcept\u001b[39;00m CohereError \u001b[38;5;28;01mas\u001b[39;00m e:\n",
      "\u001b[1;31mCohereError\u001b[0m: invalid api key",
      "\nDuring handling of the above exception, another exception occurred:\n",
      "\u001b[1;31mCohereError\u001b[0m                               Traceback (most recent call last)",
      "Input \u001b[1;32mIn [4]\u001b[0m, in \u001b[0;36m<cell line: 2>\u001b[1;34m()\u001b[0m\n\u001b[0;32m      1\u001b[0m \u001b[38;5;66;03m# initialize the Cohere Client with an API Key\u001b[39;00m\n\u001b[1;32m----> 2\u001b[0m co \u001b[38;5;241m=\u001b[39m \u001b[43mcohere\u001b[49m\u001b[38;5;241;43m.\u001b[39;49m\u001b[43mClient\u001b[49m\u001b[43m(\u001b[49m\u001b[38;5;124;43m'\u001b[39;49m\u001b[38;5;132;43;01m{apiKey}\u001b[39;49;00m\u001b[38;5;124;43m'\u001b[39;49m\u001b[43m)\u001b[49m\n\u001b[0;32m      4\u001b[0m \u001b[38;5;66;03m# generate a prediction for a prompt \u001b[39;00m\n\u001b[0;32m      5\u001b[0m prediction \u001b[38;5;241m=\u001b[39m co\u001b[38;5;241m.\u001b[39mgenerate(\n\u001b[0;32m      6\u001b[0m             model\u001b[38;5;241m=\u001b[39m\u001b[38;5;124m'\u001b[39m\u001b[38;5;124mlarge\u001b[39m\u001b[38;5;124m'\u001b[39m,\n\u001b[0;32m      7\u001b[0m             prompt\u001b[38;5;241m=\u001b[39m\u001b[38;5;124m'\u001b[39m\u001b[38;5;124mco:here\u001b[39m\u001b[38;5;124m'\u001b[39m,\n\u001b[0;32m      8\u001b[0m             max_tokens\u001b[38;5;241m=\u001b[39m\u001b[38;5;241m10\u001b[39m)\n",
      "File \u001b[1;32mD:\\Anaconda\\envs\\py38\\lib\\site-packages\\cohere\\client.py:56\u001b[0m, in \u001b[0;36mClient.__init__\u001b[1;34m(self, api_key, version, num_workers, request_dict, check_api_key)\u001b[0m\n\u001b[0;32m     54\u001b[0m         \u001b[38;5;28;01mraise\u001b[39;00m CohereError(\u001b[38;5;124m'\u001b[39m\u001b[38;5;124minvalid api key\u001b[39m\u001b[38;5;124m'\u001b[39m)\n\u001b[0;32m     55\u001b[0m \u001b[38;5;28;01mexcept\u001b[39;00m CohereError \u001b[38;5;28;01mas\u001b[39;00m e:\n\u001b[1;32m---> 56\u001b[0m     \u001b[38;5;28;01mraise\u001b[39;00m CohereError(message\u001b[38;5;241m=\u001b[39me\u001b[38;5;241m.\u001b[39mmessage, http_status\u001b[38;5;241m=\u001b[39me\u001b[38;5;241m.\u001b[39mhttp_status, headers\u001b[38;5;241m=\u001b[39me\u001b[38;5;241m.\u001b[39mheaders)\n",
      "\u001b[1;31mCohereError\u001b[0m: invalid api key"
     ]
    }
   ],
   "source": [
    "# initialize the Cohere Client with an API Key\n",
    "co = cohere.Client('{apiKey}')\n",
    "\n",
    "# generate a prediction for a prompt \n",
    "prediction = co.generate(\n",
    "            model='large',\n",
    "            prompt='co:here',\n",
    "            max_tokens=10)\n",
    "            \n",
    "# print the predicted text          \n",
    "print('prediction: {}'.format(prediction.generations[0].text))"
   ]
  },
  {
   "cell_type": "code",
   "execution_count": null,
   "id": "7909c2cc",
   "metadata": {},
   "outputs": [],
   "source": []
  }
 ],
 "metadata": {
  "kernelspec": {
   "display_name": "Python 3 (ipykernel)",
   "language": "python",
   "name": "python3"
  },
  "language_info": {
   "codemirror_mode": {
    "name": "ipython",
    "version": 3
   },
   "file_extension": ".py",
   "mimetype": "text/x-python",
   "name": "python",
   "nbconvert_exporter": "python",
   "pygments_lexer": "ipython3",
   "version": "3.8.13"
  }
 },
 "nbformat": 4,
 "nbformat_minor": 5
}
