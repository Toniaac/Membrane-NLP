{
 "cells": [
  {
   "cell_type": "code",
   "execution_count": 1,
   "id": "de3d8e44",
   "metadata": {},
   "outputs": [],
   "source": [
    "import cohere"
   ]
  },
  {
   "cell_type": "code",
   "execution_count": 5,
   "id": "915f3e48",
   "metadata": {},
   "outputs": [],
   "source": [
    "Prompt = 'Passage: At first, the polymer should be dried without any moisture in it. Therefore, it was placed in an oven at 80◦C for 12 hr, and then this dry matter was placed in the desiccator. About 5 g of solvent (DMAC or DMF) with 2 g of polymer were mixed r to make 7 g of 20% polysulfone solution. Then the solution was inserted on the stirrer to obtain a clear homogeneous solution without any air bubbles (Fig. 2A). Usually, this stirring will takes between 12 and 48 hr. After the solution was prepared, it was cast in a precise thickness by a filming machine on a flat glass (Fig. 2B). It should be noted that for this operation, the filming machine was made of stainless steel with a precision of 0.01 mm. Any moisture should be absent during the filming on the devices. The operation is done so that after adjusting the thickness required on the glass by the filming machine, the polymer solution is poured into the film nozzle and the casting operation is performed. The phase inversion technique was used to prepare the PS microfiltration membrane. After casting, the solution was immersed in a water bath and put in this state between 12 and 24 hr. The purpose is to remove the solvent from the solution and the membrane configuration. Then, the membrane was immersed again in a methanol solution for 12 hr to remove water and any impurities from the polymeric membrane structure (Fig. 3A). To remove the residual solvent and methanol (any impurities from the polymeric membrane structure), the membrane was placed in an oven at 80◦C for 12 hr (Fig. 3B). After preparation of membrane and before separation, it is better to use a flashlight to ensure no debris, especially bubbles. The two membrane samples were showed in Figs. 4 A and B. Other concentrations of PS polymer with different types of solvents were synthesized by a similar procedure. \\n\\nExtract:\\nDrying Temperature: 80◦C\\nDrying Time: 12hr\\nSolvent Amount: 5g\\nPolymer Amount: 2g\\nConcentration: 20%\\nFirst Immersion Time: 12-24hr\\nSecond Immersion Time: 12hr\\nOven Temperature: 80◦C\\nOven Time: 12hr\\n--\\nPassage: The transparent PSf membrane was fabricated by solution casting technique. Ten weight % solution of polymer was obtained by adding 1 g of PSf beads in 10 mL DMAc. After vigorous stirring for 4 hours, casting of solution was carried out on levelled flat plat. The casted solution was then dried at a temperature of 80°C in vacuum oven. Finally, from glass plate, the membrane was peeled off with aid of doctors blade 17.\\n\\nExtract:\\nDrying Temperature: 80°C\\nDrying Time: NA\\nSolvent Amount: 10mL\\nPolymer Amount: 1g\\nConcentration: 10%\\nFirst Immersion Time: NA\\nSecond Immersion Time: NA\\nOven Temperature: 80°C\\nOven Time: NA\\n--\\nPassage: To prepare the casting solution, 18 wt.% PSF, 15 wt.% PEG-400 and 67 wt.% DMAc were added to a round-bottom flask and mixed for 5 h at 120 °C with an overhead stirrer at 600 rpm. All the components were used without further purification. Thereafter, the prepared casting solution was cooled down at room temperature and left overnight to remove air bubbles.Extract:\\n'"
   ]
  },
  {
   "cell_type": "code",
   "execution_count": 8,
   "id": "266a24ef",
   "metadata": {},
   "outputs": [],
   "source": [
    "Prompt = 'Passage: At first, the polymer should be dried without any moisture in it. Therefore, it was placed in an oven at 80◦C for 12 hr, and then this dry matter was placed in the desiccator. About 5 g of solvent (DMAC or DMF) with 2 g of polymer were mixed r to make 7 g of 20% polysulfone solution. Then the solution was inserted on the stirrer to obtain a clear homogeneous solution without any air bubbles (Fig. 2A). Usually, this stirring will takes between 12 and 48 hr. After the solution was prepared, it was cast in a precise thickness by a filming machine on a flat glass (Fig. 2B). It should be noted that for this operation, the filming machine was made of stainless steel with a precision of 0.01 mm. Any moisture should be absent during the filming on the devices. The operation is done so that after adjusting the thickness required on the glass by the filming machine, the polymer solution is poured into the film nozzle and the casting operation is performed. The phase inversion technique was used to prepare the PS microfiltration membrane. After casting, the solution was immersed in a water bath and put in this state between 12 and 24 hr. The purpose is to remove the solvent from the solution and the membrane configuration. Then, the membrane was immersed again in a methanol solution for 12 hr to remove water and any impurities from the polymeric membrane structure (Fig. 3A). To remove the residual solvent and methanol (any impurities from the polymeric membrane structure), the membrane was placed in an oven at 80◦C for 12 hr (Fig. 3B). After preparation of membrane and before separation, it is better to use a flashlight to ensure no debris, especially bubbles. The two membrane samples were showed in Figs. 4 A and B. Other concentrations of PS polymer with different types of solvents were synthesized by a similar procedure. \\n\\nExtract:\\nDrying Temperature: 80◦C\\nDrying Time: 12hr\\nConcentration: 20%\\nFirst Immersion Time: 12-24hr\\nSecond Immersion Time: 12hr\\n--\\nPassage: The transparent PSf membrane was fabricated by solution casting technique. Ten weight % solution of polymer was obtained by adding 1 g of PSf beads in 10 mL DMAc. After vigorous stirring for 4 hours, casting of solution was carried out on levelled flat plat. The casted solution was then dried at a temperature of 80°C in vacuum oven. Finally, from glass plate, the membrane was peeled off with aid of doctors blade 17.\\n\\nExtract:\\nDrying Temperature: 80°C\\nDrying Time: NA\\nConcentration: 10%\\nFirst Immersion Time: NA\\nSecond Immersion Time: NA\\n--\\nPassage: To prepare the casting solution, 18 wt.% PSF, 15 wt.% PEG-400 and 67 wt.% DMAc were added to a round-bottom flask and mixed for 5 h at 120 °C with an overhead stirrer at 600 rpm. All the components were used without further purification. Thereafter, the prepared casting solution was cooled down at room temperature and left overnight to remove air bubbles.Extract:\\n'"
   ]
  },
  {
   "cell_type": "code",
   "execution_count": 11,
   "id": "bceff271",
   "metadata": {},
   "outputs": [
    {
     "name": "stdout",
     "output_type": "stream",
     "text": [
      "\n",
      "Drying Temperature: 120°C\n",
      "Drying Time: 5hr\n",
      "Concentration: 18%\n",
      "First Immersion Time: 12hr\n",
      "Second Immersion Time: NA\n",
      "--\n"
     ]
    },
    {
     "name": "stderr",
     "output_type": "stream",
     "text": [
      "\u001b[93mWarning: Your text contains a trailing whitespace, which has been trimmed to ensure high quality generations.\n",
      "\u001b[0m\n"
     ]
    }
   ],
   "source": [
    "# initialize the Cohere Client with an API Key\n",
    "co = cohere.Client('6rIWhaa4vGVQKRnSJ9ClSKkgsxQp8EabiXBLH2zl')\n",
    "\n",
    "# generate a prediction for a prompt \n",
    "response = co.generate(\n",
    "            model='xlarge',\n",
    "            prompt=Prompt,\n",
    "            max_tokens=50,\n",
    "            temperature=0.8,\n",
    "            k=0, \n",
    "            p=1,\n",
    "            frequency_penalty=0, \n",
    "            presence_penalty=0, \n",
    "            stop_sequences=[\"--\"],\n",
    "            return_likelihoods='NONE')\n",
    "            \n",
    "# print the predicted text          \n",
    "print(response.generations[0].text)"
   ]
  },
  {
   "cell_type": "code",
   "execution_count": 10,
   "id": "09a5eb95",
   "metadata": {},
   "outputs": [
    {
     "data": {
      "text/plain": [
       "'Passage: At first, the polymer should be dried without any moisture in it. Therefore, it was placed in an oven at 80◦C for 12 hr, and then this dry matter was placed in the desiccator. About 5 g of solvent (DMAC or DMF) with 2 g of polymer were mixed r to make 7 g of 20% polysulfone solution. Then the solution was inserted on the stirrer to obtain a clear homogeneous solution without any air bubbles (Fig. 2A). Usually, this stirring will takes between 12 and 48 hr. After the solution was prepared, it was cast in a precise thickness by a filming machine on a flat glass (Fig. 2B). It should be noted that for this operation, the filming machine was made of stainless steel with a precision of 0.01 mm. Any moisture should be absent during the filming on the devices. The operation is done so that after adjusting the thickness required on the glass by the filming machine, the polymer solution is poured into the film nozzle and the casting operation is performed. The phase inversion technique was used to prepare the PS microfiltration membrane. After casting, the solution was immersed in a water bath and put in this state between 12 and 24 hr. The purpose is to remove the solvent from the solution and the membrane configuration. Then, the membrane was immersed again in a methanol solution for 12 hr to remove water and any impurities from the polymeric membrane structure (Fig. 3A). To remove the residual solvent and methanol (any impurities from the polymeric membrane structure), the membrane was placed in an oven at 80◦C for 12 hr (Fig. 3B). After preparation of membrane and before separation, it is better to use a flashlight to ensure no debris, especially bubbles. The two membrane samples were showed in Figs. 4 A and B. Other concentrations of PS polymer with different types of solvents were synthesized by a similar procedure. \\n\\nExtract:\\nDrying Temperature: 80◦C\\nDrying Time: 12hr\\nConcentration: 20%\\nFirst Immersion Time: 12-24hr\\nSecond Immersion Time: 12hr\\n--\\nPassage: The transparent PSf membrane was fabricated by solution casting technique. Ten weight % solution of polymer was obtained by adding 1 g of PSf beads in 10 mL DMAc. After vigorous stirring for 4 hours, casting of solution was carried out on levelled flat plat. The casted solution was then dried at a temperature of 80°C in vacuum oven. Finally, from glass plate, the membrane was peeled off with aid of doctors blade 17.\\n\\nExtract:\\nDrying Temperature: 80°C\\nDrying Time: NA\\nConcentration: 10%\\nFirst Immersion Time: NA\\nSecond Immersion Time: NA\\n--\\nPassage: To prepare the casting solution, 18 wt.% PSF, 15 wt.% PEG-400 and 67 wt.% DMAc were added to a round-bottom flask and mixed for 5 h at 120 °C with an overhead stirrer at 600 rpm. All the components were used without further purification. Thereafter, the prepared casting solution was cooled down at room temperature and left overnight to remove air bubbles.Extract:\\n\\nDrying Temperature: 82°C\\nDrying Time: NA\\nConcentration: 18%\\nFirst Immersion Time: NA\\nSecond Immersion Time: NA\\n--'"
      ]
     },
     "execution_count": 10,
     "metadata": {},
     "output_type": "execute_result"
    }
   ],
   "source": [
    "Prompt+response.generations[0].text"
   ]
  }
 ],
 "metadata": {
  "kernelspec": {
   "display_name": "Python 3 (ipykernel)",
   "language": "python",
   "name": "python3"
  },
  "language_info": {
   "codemirror_mode": {
    "name": "ipython",
    "version": 3
   },
   "file_extension": ".py",
   "mimetype": "text/x-python",
   "name": "python",
   "nbconvert_exporter": "python",
   "pygments_lexer": "ipython3",
   "version": "3.8.13"
  }
 },
 "nbformat": 4,
 "nbformat_minor": 5
}
